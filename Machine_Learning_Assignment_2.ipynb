{
  "nbformat": 4,
  "nbformat_minor": 0,
  "metadata": {
    "colab": {
      "name": "Copy of Machine Learning Assignment 2.ipynb",
      "provenance": [],
      "collapsed_sections": [],
      "include_colab_link": true
    },
    "kernelspec": {
      "name": "python3",
      "display_name": "Python 3"
    },
    "accelerator": "TPU"
  },
  "cells": [
    {
      "cell_type": "markdown",
      "metadata": {
        "id": "view-in-github",
        "colab_type": "text"
      },
      "source": [
        "<a href=\"https://colab.research.google.com/github/kotexan/Decision-Tree-Neural-Network-in-Python/blob/master/Machine_Learning_Assignment_2.ipynb\" target=\"_parent\"><img src=\"https://colab.research.google.com/assets/colab-badge.svg\" alt=\"Open In Colab\"/></a>"
      ]
    },
    {
      "cell_type": "markdown",
      "metadata": {
        "id": "0fRVJ7FTuqFV",
        "colab_type": "text"
      },
      "source": [
        "# Machine Learning Assignment 1\n",
        "# Author: Jaemin Lee\n",
        "# Due: 10/19/2019"
      ]
    },
    {
      "cell_type": "code",
      "metadata": {
        "id": "szHBT6r0DrLB",
        "colab_type": "code",
        "outputId": "594fe6f6-f5f6-41f7-c871-6a874912c5a5",
        "colab": {
          "base_uri": "https://localhost:8080/",
          "height": 149
        }
      },
      "source": [
        "# google drive import \n",
        "#setting up google drive connection\n",
        "from google.colab import drive\n",
        "drive.mount('/content/gdrive')"
      ],
      "execution_count": 0,
      "outputs": [
        {
          "output_type": "stream",
          "text": [
            "Go to this URL in a browser: https://accounts.google.com/o/oauth2/auth?client_id=947318989803-6bn6qk8qdgf4n4g3pfee6491hc0brc4i.apps.googleusercontent.com&redirect_uri=urn%3Aietf%3Awg%3Aoauth%3A2.0%3Aoob&scope=email%20https%3A%2F%2Fwww.googleapis.com%2Fauth%2Fdocs.test%20https%3A%2F%2Fwww.googleapis.com%2Fauth%2Fdrive%20https%3A%2F%2Fwww.googleapis.com%2Fauth%2Fdrive.photos.readonly%20https%3A%2F%2Fwww.googleapis.com%2Fauth%2Fpeopleapi.readonly&response_type=code\n",
            "\n",
            "Enter your authorization code:\n",
            "··········\n",
            "Mounted at /content/gdrive\n"
          ],
          "name": "stdout"
        }
      ]
    },
    {
      "cell_type": "markdown",
      "metadata": {
        "id": "ngLP3YQ5ujqx",
        "colab_type": "text"
      },
      "source": [
        "## **Importing Libraries**"
      ]
    },
    {
      "cell_type": "code",
      "metadata": {
        "id": "C81-kCZPGEQK",
        "colab_type": "code",
        "colab": {}
      },
      "source": [
        "# python libraries \n",
        "from sklearn.model_selection import cross_val_score\n",
        "from sklearn.tree import DecisionTreeClassifier\n",
        "from sklearn.model_selection import train_test_split\n",
        "from sklearn.metrics import accuracy_score\n",
        "from sklearn.neural_network import MLPClassifier\n",
        "from sklearn.model_selection import KFold\n",
        "\n",
        "import sklearn\n",
        "import numpy as np\n",
        "import pandas as pd"
      ],
      "execution_count": 0,
      "outputs": []
    },
    {
      "cell_type": "code",
      "metadata": {
        "id": "u8__Oge5H_aH",
        "colab_type": "code",
        "outputId": "a65cf63b-67c5-4714-8ae4-ffa37ea7d2f2",
        "colab": {
          "base_uri": "https://localhost:8080/",
          "height": 153
        }
      },
      "source": [
        "# read the data set\n",
        "df = pd.read_csv('gdrive/My Drive/mnist.csv')\n",
        "print(df.head())"
      ],
      "execution_count": 0,
      "outputs": [
        {
          "output_type": "stream",
          "text": [
            "   label  pixel0  pixel1  pixel2  ...  pixel780  pixel781  pixel782  pixel783\n",
            "0      1       0       0       0  ...         0         0         0         0\n",
            "1      0       0       0       0  ...         0         0         0         0\n",
            "2      1       0       0       0  ...         0         0         0         0\n",
            "3      4       0       0       0  ...         0         0         0         0\n",
            "4      0       0       0       0  ...         0         0         0         0\n",
            "\n",
            "[5 rows x 785 columns]\n"
          ],
          "name": "stdout"
        }
      ]
    },
    {
      "cell_type": "markdown",
      "metadata": {
        "id": "Y_xKSZUevD8i",
        "colab_type": "text"
      },
      "source": [
        "# **Sampling 100 instances out of each label**"
      ]
    },
    {
      "cell_type": "code",
      "metadata": {
        "id": "mZSWkMEPGINe",
        "colab_type": "code",
        "outputId": "65a28d11-da73-48db-a9f1-280df1b8f804",
        "colab": {
          "base_uri": "https://localhost:8080/",
          "height": 68
        }
      },
      "source": [
        "# sort the dataframe by digit\n",
        "#sortedDf = df.sort_values(by=['label'])\n",
        "\n",
        "res = pd.DataFrame([])\n",
        "\n",
        "for i in range(10):\n",
        "  frame = df.loc[df.label == i, :]\n",
        "  frame = frame.iloc[0:100, :]\n",
        "  res = res.append(pd.DataFrame(res))\n",
        "\n",
        "print(res)\n",
        "\n",
        "\n",
        "\n",
        "# subset each digit\n",
        "# extracting 100 instances (total of 1000 instances)\n",
        "#nines = sortedDf[9000:10000].head(100)\n",
        "#eights = sortedDf[8000:9000].head(100)\n",
        "#sevens = sortedDf[7000: 8000].head(100)\n",
        "#sixes = sortedDf[6000: 7000].head(100)\n",
        "#fives = sortedDf[5000: 6000].head(100)\n",
        "#fours = sortedDf[4000: 5000].head(100)\n",
        "#threes = sortedDf[3000: 4000].head(100)\n",
        "#twos = sortedDf[2000: 3000].head(100)\n",
        "#ones = sortedDf[1000:2000].head(100)\n",
        "#zeros = sortedDf[0:1000].head(100)\n",
        "\n",
        "# combine subsetted digtis\n",
        "#frames = [zeros, ones, twos, threes, fours, fives, sixes, sevens, eights, nines]\n",
        "\n",
        "# result \n",
        "#res = pd.concat(frames)"
      ],
      "execution_count": 0,
      "outputs": [
        {
          "output_type": "stream",
          "text": [
            "Empty DataFrame\n",
            "Columns: []\n",
            "Index: []\n"
          ],
          "name": "stdout"
        }
      ]
    },
    {
      "cell_type": "code",
      "metadata": {
        "id": "dhaIwLENgDmi",
        "colab_type": "code",
        "colab": {}
      },
      "source": [
        "# separate X and y variables to split test and train data\n",
        "X = res.iloc[:,1:]\n",
        "y = res.iloc[:, 0]"
      ],
      "execution_count": 0,
      "outputs": []
    },
    {
      "cell_type": "code",
      "metadata": {
        "id": "HsYENPbuQdCj",
        "colab_type": "code",
        "colab": {}
      },
      "source": [
        "# using train_test_split to create train and test sets\n",
        "X_train, X_test, y_train, y_test = train_test_split(X, y, random_state = 1, test_size = 0.30)"
      ],
      "execution_count": 0,
      "outputs": []
    },
    {
      "cell_type": "markdown",
      "metadata": {
        "id": "RbZQcYdviDfV",
        "colab_type": "text"
      },
      "source": [
        "## Decision Tree using 1000 Instances"
      ]
    },
    {
      "cell_type": "code",
      "metadata": {
        "id": "tPef9mnKIPQm",
        "colab_type": "code",
        "colab": {}
      },
      "source": [
        "# using decision tree classifier\n",
        "dtree = DecisionTreeClassifier(criterion='entropy')\n",
        "dtree.fit(X_train, y_train)\n",
        "\n",
        "# predicting labels on the test set\n",
        "y_pred = dtree.predict(X_test)"
      ],
      "execution_count": 0,
      "outputs": []
    },
    {
      "cell_type": "code",
      "metadata": {
        "id": "IrnWsSORViDN",
        "colab_type": "code",
        "outputId": "34182c1e-379b-40a5-d9b0-8f27fb032afe",
        "colab": {
          "base_uri": "https://localhost:8080/",
          "height": 51
        }
      },
      "source": [
        "# accuracy on train data\n",
        "print('Accuracy Score on train data: ', accuracy_score(y_true=y_train, y_pred=dtree.predict(X_train)))\n",
        "# accuracy on test data\n",
        "print('Accuracy Score on test data: ', accuracy_score(y_true=y_test, y_pred=y_pred))"
      ],
      "execution_count": 0,
      "outputs": [
        {
          "output_type": "stream",
          "text": [
            "Accuracy Score on train data:  1.0\n",
            "Accuracy Score on test data:  0.6666666666666666\n"
          ],
          "name": "stdout"
        }
      ]
    },
    {
      "cell_type": "markdown",
      "metadata": {
        "id": "IJI09YMjrOHM",
        "colab_type": "text"
      },
      "source": [
        "## MLP Using 1000 Instances"
      ]
    },
    {
      "cell_type": "code",
      "metadata": {
        "id": "dqyjtnsklShE",
        "colab_type": "code",
        "colab": {}
      },
      "source": [
        "# MLP classifier\n",
        "mlp = MLPClassifier()\n",
        "\n",
        "# fit the model using MLP\n",
        "mlp.fit(X_train, y_train)\n",
        "\n",
        "# predict labels\n",
        "y_pred_mlp = mlp.predict(X_test)"
      ],
      "execution_count": 0,
      "outputs": []
    },
    {
      "cell_type": "code",
      "metadata": {
        "id": "zbkQ4NH2nTFz",
        "colab_type": "code",
        "outputId": "d79151ae-ab85-4db2-a628-b84ae329de6f",
        "colab": {
          "base_uri": "https://localhost:8080/",
          "height": 51
        }
      },
      "source": [
        "# accuracy on train data\n",
        "print('Accuracy Score on train data: ', accuracy_score(y_true=y_train, y_pred=mlp.predict(X_train)))\n",
        "# accuracy on test data\n",
        "print('Accuracy Score on test data: ', accuracy_score(y_true=y_test, y_pred=y_pred_mlp))"
      ],
      "execution_count": 0,
      "outputs": [
        {
          "output_type": "stream",
          "text": [
            "Accuracy Score on train data:  0.99\n",
            "Accuracy Score on test data:  0.881\n"
          ],
          "name": "stdout"
        }
      ]
    },
    {
      "cell_type": "markdown",
      "metadata": {
        "id": "DNUhunDWnd_o",
        "colab_type": "text"
      },
      "source": [
        "## Decision Tree using whole data\n"
      ]
    },
    {
      "cell_type": "code",
      "metadata": {
        "id": "1u_PPuRLnvUV",
        "colab_type": "code",
        "colab": {}
      },
      "source": [
        "# using the whole data frame\n",
        "# separate X and y variables to split test and train data\n",
        "X_df = df.iloc[:,1:]\n",
        "y_df = df.iloc[:, 0]"
      ],
      "execution_count": 0,
      "outputs": []
    },
    {
      "cell_type": "code",
      "metadata": {
        "id": "0ejZ-Q0QodGN",
        "colab_type": "code",
        "colab": {}
      },
      "source": [
        "# using train_test_split to create train and test sets\n",
        "X_train, X_test, y_train, y_test = train_test_split(X_df, y_df, random_state = 1, test_size = 0.30)\n",
        "\n",
        "# using decision tree classifier\n",
        "dtree = DecisionTreeClassifier(criterion='entropy')\n",
        "dtree.fit(X_train, y_train)\n",
        "\n",
        "# predicting labels on the test set\n",
        "y_pred = dtree.predict(X_test)"
      ],
      "execution_count": 0,
      "outputs": []
    },
    {
      "cell_type": "code",
      "metadata": {
        "id": "D55Vk4kqowNt",
        "colab_type": "code",
        "outputId": "f20aa3f7-55ac-4e86-c0b2-8fc66deca51d",
        "colab": {
          "base_uri": "https://localhost:8080/",
          "height": 51
        }
      },
      "source": [
        "# accuracy on train data\n",
        "print('Accuracy Score on train data: ', accuracy_score(y_true=y_train, y_pred=dtree.predict(X_train)))\n",
        "# accuracy on test data\n",
        "print('Accuracy Score on test data: ', accuracy_score(y_true=y_test, y_pred=y_pred))"
      ],
      "execution_count": 0,
      "outputs": [
        {
          "output_type": "stream",
          "text": [
            "Accuracy Score on train data:  1.0\n",
            "Accuracy Score on test data:  0.8033333333333333\n"
          ],
          "name": "stdout"
        }
      ]
    },
    {
      "cell_type": "markdown",
      "metadata": {
        "id": "q-MbLNzVp-IG",
        "colab_type": "text"
      },
      "source": [
        "# **`MLP using whole data`**"
      ]
    },
    {
      "cell_type": "code",
      "metadata": {
        "id": "9jBYAF71qCkA",
        "colab_type": "code",
        "colab": {}
      },
      "source": [
        "# using the whole data frame\n",
        "# separate X and y variables to split test and train data\n",
        "X_df = df.iloc[:,1:]\n",
        "y_df = df.iloc[:, 0]\n",
        "\n",
        "# using train_test_split to create train and test sets\n",
        "X_train, X_test, y_train, y_test = train_test_split(X_df, y_df, random_state = 1, test_size = 0.30)\n",
        "\n",
        "# MLP classifier\n",
        "mlp = MLPClassifier()\n",
        "\n",
        "# fit the model using MLP\n",
        "mlp.fit(X_train, y_train)\n",
        "\n",
        "# predict labels\n",
        "y_pred_mlp = mlp.predict(X_test)"
      ],
      "execution_count": 0,
      "outputs": []
    },
    {
      "cell_type": "code",
      "metadata": {
        "id": "ctBPYewzqBYU",
        "colab_type": "code",
        "outputId": "a643ba91-ed61-45e2-c376-98b0fe3873ef",
        "colab": {
          "base_uri": "https://localhost:8080/",
          "height": 51
        }
      },
      "source": [
        "# accuracy on train data\n",
        "print('Accuracy Score on train data: ', accuracy_score(y_true=y_train, y_pred=mlp.predict(X_train)))\n",
        "# accuracy on test data\n",
        "print('Accuracy Score on test data: ', accuracy_score(y_true=y_test, y_pred=y_pred_mlp))"
      ],
      "execution_count": 0,
      "outputs": [
        {
          "output_type": "stream",
          "text": [
            "Accuracy Score on train data:  0.9941428571428571\n",
            "Accuracy Score on test data:  0.9103333333333333\n"
          ],
          "name": "stdout"
        }
      ]
    },
    {
      "cell_type": "markdown",
      "metadata": {
        "id": "nxA1iVDXJ4uy",
        "colab_type": "text"
      },
      "source": [
        "## Using K-folds (K = 2) Cross Validation on Whole Dataset (Decision Tree)\n",
        "\n",
        "\n"
      ]
    },
    {
      "cell_type": "code",
      "metadata": {
        "id": "8DszAuvnIyF1",
        "colab_type": "code",
        "outputId": "676e0c4e-3d39-4301-cc7f-2f1661eb63e6",
        "colab": {
          "base_uri": "https://localhost:8080/",
          "height": 86
        }
      },
      "source": [
        "# separate X and y variables to split test and train data\n",
        "X = df.iloc[:,1:]\n",
        "y = df.iloc[:, 0]\n",
        "\n",
        "# apply kfold method using k = 2\n",
        "kf = KFold(n_splits= 2)\n",
        "kf.get_n_splits(X)\n",
        "\n",
        "for train_index, test_index in kf.split(X):\n",
        "  #print(\"Train: \", train_index, \"\\n\")\n",
        "  #print(\"Test: \", test_index)\n",
        "  X_train, X_test = X.loc[train_index], X.loc[test_index]\n",
        "  y_train, y_test = y.loc[train_index], y.loc[test_index]\n",
        "  # using decision tree classifier\n",
        "  dtree = DecisionTreeClassifier(criterion='entropy')\n",
        "  dtree.fit(X_train, y_train)\n",
        "\n",
        "  # predicting labels on the test set\n",
        "  y_pred = dtree.predict(X_test)\n",
        "\n",
        "  # accuracy on train data\n",
        "  print('Accuracy Score on train data: ', accuracy_score(y_true=y_train, y_pred=dtree.predict(X_train)))\n",
        "  # accuracy on test data\n",
        "  print('Accuracy Score on test data: ', accuracy_score(y_true=y_test, y_pred=y_pred))"
      ],
      "execution_count": 0,
      "outputs": [
        {
          "output_type": "stream",
          "text": [
            "Accuracy Score on train data:  1.0\n",
            "Accuracy Score on test data:  0.7866\n",
            "Accuracy Score on train data:  1.0\n",
            "Accuracy Score on test data:  0.7792\n"
          ],
          "name": "stdout"
        }
      ]
    },
    {
      "cell_type": "markdown",
      "metadata": {
        "id": "ferCWdpwRluP",
        "colab_type": "text"
      },
      "source": [
        "## Using K-folds (K = 2) Cross Validation on Whole Dataset (MLP)"
      ]
    },
    {
      "cell_type": "code",
      "metadata": {
        "id": "qCYxeRG2KOLt",
        "colab_type": "code",
        "outputId": "6f00a809-aed5-41d4-d812-e394a1a94888",
        "colab": {
          "base_uri": "https://localhost:8080/",
          "height": 86
        }
      },
      "source": [
        "# separate X and y variables to split test and train data\n",
        "X = df.iloc[:,1:]\n",
        "y = df.iloc[:, 0]\n",
        "\n",
        "# apply kfold method using k = 2\n",
        "kf = KFold(n_splits= 2)\n",
        "kf.get_n_splits(X)\n",
        "\n",
        "for train_index, test_index in kf.split(X):\n",
        "  X_train, X_test = X.loc[train_index], X.loc[test_index]\n",
        "  y_train, y_test = y.loc[train_index], y.loc[test_index]\n",
        "\n",
        "  # MLP classifier\n",
        "  mlp = MLPClassifier()\n",
        "\n",
        "  # fit the model using MLP\n",
        "  mlp.fit(X_train, y_train)\n",
        "\n",
        "  # predict labels\n",
        "  y_pred_mlp = mlp.predict(X_test)\n",
        "\n",
        "  # accuracy on train data\n",
        "  print('Accuracy Score on train data: ', accuracy_score(y_true=y_train, y_pred=mlp.predict(X_train)))\n",
        "  # accuracy on test data\n",
        "  print('Accuracy Score on test data: ', accuracy_score(y_true=y_test, y_pred=y_pred_mlp))"
      ],
      "execution_count": 0,
      "outputs": [
        {
          "output_type": "stream",
          "text": [
            "Accuracy Score on train data:  1.0\n",
            "Accuracy Score on test data:  0.8908\n",
            "Accuracy Score on train data:  1.0\n",
            "Accuracy Score on test data:  0.8794\n"
          ],
          "name": "stdout"
        }
      ]
    },
    {
      "cell_type": "markdown",
      "metadata": {
        "id": "K3nS0SuIXQbc",
        "colab_type": "text"
      },
      "source": [
        "##Using K-folds (K = 4) Cross Validation on Whole Dataset (Decision Tree)"
      ]
    },
    {
      "cell_type": "code",
      "metadata": {
        "id": "lMTecBi3PKDn",
        "colab_type": "code",
        "outputId": "295f30a1-f072-4632-f910-cfe996729060",
        "colab": {
          "base_uri": "https://localhost:8080/",
          "height": 155
        }
      },
      "source": [
        "# separate X and y variables to split test and train data\n",
        "X = df.iloc[:,1:]\n",
        "y = df.iloc[:, 0]\n",
        "\n",
        "# apply kfold method using k = 2\n",
        "kf = KFold(n_splits= 4)\n",
        "kf.get_n_splits(X)\n",
        "\n",
        "for train_index, test_index in kf.split(X):\n",
        "  #print(\"Train: \", train_index, \"\\n\")\n",
        "  #print(\"Test: \", test_index)\n",
        "  X_train, X_test = X.loc[train_index], X.loc[test_index]\n",
        "  y_train, y_test = y.loc[train_index], y.loc[test_index]\n",
        "  # using decision tree classifier\n",
        "  dtree = DecisionTreeClassifier(criterion='entropy')\n",
        "  dtree.fit(X_train, y_train)\n",
        "\n",
        "  # predicting labels on the test set\n",
        "  y_pred = dtree.predict(X_test)\n",
        "\n",
        "  # accuracy on train data\n",
        "  print('Accuracy Score on train data: ', accuracy_score(y_true=y_train, y_pred=dtree.predict(X_train)))\n",
        "  # accuracy on test data\n",
        "  print('Accuracy Score on test data: ', accuracy_score(y_true=y_test, y_pred=y_pred))"
      ],
      "execution_count": 0,
      "outputs": [
        {
          "output_type": "stream",
          "text": [
            "Accuracy Score on train data:  1.0\n",
            "Accuracy Score on test data:  0.8208\n",
            "Accuracy Score on train data:  1.0\n",
            "Accuracy Score on test data:  0.8012\n",
            "Accuracy Score on train data:  1.0\n",
            "Accuracy Score on test data:  0.8128\n",
            "Accuracy Score on train data:  1.0\n",
            "Accuracy Score on test data:  0.786\n"
          ],
          "name": "stdout"
        }
      ]
    },
    {
      "cell_type": "markdown",
      "metadata": {
        "id": "FdeE36HuXwjV",
        "colab_type": "text"
      },
      "source": [
        "##Using K-folds (K = 4) Cross Validation on Whole Dataset (MLP)"
      ]
    },
    {
      "cell_type": "code",
      "metadata": {
        "id": "oeOjEdnMXgd1",
        "colab_type": "code",
        "outputId": "1739fb9f-2e9b-4222-fb41-8db7f45782e1",
        "colab": {
          "base_uri": "https://localhost:8080/",
          "height": 155
        }
      },
      "source": [
        "# separate X and y variables to split test and train data\n",
        "X = df.iloc[:,1:]\n",
        "y = df.iloc[:, 0]\n",
        "\n",
        "# apply kfold method using k = 2\n",
        "kf = KFold(n_splits= 4)\n",
        "kf.get_n_splits(X)\n",
        "\n",
        "for train_index, test_index in kf.split(X):\n",
        "  X_train, X_test = X.loc[train_index], X.loc[test_index]\n",
        "  y_train, y_test = y.loc[train_index], y.loc[test_index]\n",
        "\n",
        "  # MLP classifier\n",
        "  mlp = MLPClassifier()\n",
        "\n",
        "  # fit the model using MLP\n",
        "  mlp.fit(X_train, y_train)\n",
        "\n",
        "  # predict labels\n",
        "  y_pred_mlp = mlp.predict(X_test)\n",
        "\n",
        "  # accuracy on train data\n",
        "  print('Accuracy Score on train data: ', accuracy_score(y_true=y_train, y_pred=mlp.predict(X_train)))\n",
        "  # accuracy on test data\n",
        "  print('Accuracy Score on test data: ', accuracy_score(y_true=y_test, y_pred=y_pred_mlp))"
      ],
      "execution_count": 0,
      "outputs": [
        {
          "output_type": "stream",
          "text": [
            "Accuracy Score on train data:  0.9942666666666666\n",
            "Accuracy Score on test data:  0.9116\n",
            "Accuracy Score on train data:  1.0\n",
            "Accuracy Score on test data:  0.8976\n",
            "Accuracy Score on train data:  0.9945333333333334\n",
            "Accuracy Score on test data:  0.9072\n",
            "Accuracy Score on train data:  0.9949333333333333\n",
            "Accuracy Score on test data:  0.9184\n"
          ],
          "name": "stdout"
        }
      ]
    }
  ]
}